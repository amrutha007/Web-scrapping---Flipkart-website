{
 "cells": [
  {
   "cell_type": "code",
   "execution_count": 10,
   "metadata": {},
   "outputs": [
    {
     "name": "stdout",
     "output_type": "stream",
     "text": [
      "Requirement already satisfied: autoscraper in ./opt/anaconda3/lib/python3.8/site-packages (1.1.12)\n",
      "Requirement already satisfied: lxml in ./opt/anaconda3/lib/python3.8/site-packages (from autoscraper) (4.5.2)\n",
      "Requirement already satisfied: requests in ./opt/anaconda3/lib/python3.8/site-packages (from autoscraper) (2.24.0)\n",
      "Requirement already satisfied: bs4 in ./opt/anaconda3/lib/python3.8/site-packages (from autoscraper) (0.0.1)\n",
      "Requirement already satisfied: urllib3!=1.25.0,!=1.25.1,<1.26,>=1.21.1 in ./opt/anaconda3/lib/python3.8/site-packages (from requests->autoscraper) (1.25.9)\n",
      "Requirement already satisfied: certifi>=2017.4.17 in ./opt/anaconda3/lib/python3.8/site-packages (from requests->autoscraper) (2020.6.20)\n",
      "Requirement already satisfied: chardet<4,>=3.0.2 in ./opt/anaconda3/lib/python3.8/site-packages (from requests->autoscraper) (3.0.4)\n",
      "Requirement already satisfied: idna<3,>=2.5 in ./opt/anaconda3/lib/python3.8/site-packages (from requests->autoscraper) (2.10)\n",
      "Requirement already satisfied: beautifulsoup4 in ./opt/anaconda3/lib/python3.8/site-packages (from bs4->autoscraper) (4.9.1)\n",
      "Requirement already satisfied: soupsieve>1.2 in ./opt/anaconda3/lib/python3.8/site-packages (from beautifulsoup4->bs4->autoscraper) (2.0.1)\n"
     ]
    }
   ],
   "source": [
    "! pip install autoscraper"
   ]
  },
  {
   "cell_type": "code",
   "execution_count": 1,
   "metadata": {},
   "outputs": [],
   "source": [
    "from autoscraper import AutoScraper"
   ]
  },
  {
   "cell_type": "code",
   "execution_count": 2,
   "metadata": {},
   "outputs": [],
   "source": [
    "flipkart_url = \"https://www.flipkart.com/search?q=iphone\"\n",
    "\n",
    "wanted_list = [\"₹27,999\", \"APPLE iPhone SE (Black, 64 GB)\"]"
   ]
  },
  {
   "cell_type": "code",
   "execution_count": 3,
   "metadata": {},
   "outputs": [
    {
     "name": "stdout",
     "output_type": "stream",
     "text": [
      "['APPLE iPhone SE (Red, 64 GB)', 'APPLE iPhone 12 Mini (Black, 64 GB)', 'APPLE iPhone SE (White, 64 GB)', 'APPLE iPhone SE (Red, 128 GB)', 'APPLE iPhone SE (Black, 64 GB)', 'APPLE iPhone 12 (Black, 64 GB)', 'APPLE iPhone 12 Mini (Blue, 64 GB)', 'Apple iPhone XR ((PRODUCT)RED, 64 GB) (Includes EarPods, Power Adapter)', 'Apple iPhone XR (White, 128 GB) (Includes EarPods, Power Adapter)', 'APPLE iPhone 12 (Blue, 128 GB)', 'APPLE iPhone 13 (Starlight, 128 GB)', 'APPLE iPhone 13 (Midnight, 128 GB)', 'APPLE iPhone 13 (Pink, 128 GB)', 'APPLE iPhone 13 (Blue, 128 GB)', 'APPLE iPhone 13 Mini (Midnight, 128 GB)', 'APPLE iPhone 13 Mini ((PRODUCT)RED, 128 GB)', 'APPLE iPhone 13 Mini (Starlight, 128 GB)', 'APPLE iPhone 13 ((PRODUCT)RED, 256 GB)', 'APPLE iPhone SE (Red, 256 GB)', 'APPLE iPhone 13 Pro (Gold, 512 GB)', 'APPLE iPhone XR (Yellow, 128 GB)', 'APPLE iPhone 13 Mini (Midnight, 256 GB)', 'APPLE iPhone 13 Mini (Pink, 256 GB)', 'APPLE iPhone SE (White, 256 GB)']\n"
     ]
    }
   ],
   "source": [
    "scraper = AutoScraper()\n",
    "result = scraper.build(flipkart_url,wanted_list)\n",
    "print(result)"
   ]
  },
  {
   "cell_type": "code",
   "execution_count": 4,
   "metadata": {},
   "outputs": [
    {
     "data": {
      "text/plain": [
       "{'rule_1jpk': ['APPLE iPhone SE (Red, 64 GB)',\n",
       "  'APPLE iPhone 12 Mini (Black, 64 GB)',\n",
       "  'APPLE iPhone SE (White, 64 GB)',\n",
       "  'APPLE iPhone SE (Black, 64 GB)',\n",
       "  'APPLE iPhone SE (Black, 128 GB)',\n",
       "  'APPLE iPhone SE (White, 128 GB)',\n",
       "  'APPLE iPhone SE (Red, 128 GB)',\n",
       "  'APPLE iPhone 12 (Black, 64 GB)',\n",
       "  'APPLE iPhone 12 Mini (White, 64 GB)',\n",
       "  'APPLE iPhone 12 Mini (Blue, 64 GB)',\n",
       "  'Apple iPhone XR ((PRODUCT)RED, 64 GB) (Includes EarPods, Power Adapter)',\n",
       "  'APPLE iPhone XR (Black, 128 GB)',\n",
       "  'Apple iPhone XR (White, 128 GB) (Includes EarPods, Power Adapter)',\n",
       "  'APPLE iPhone 12 (Blue, 128 GB)',\n",
       "  'APPLE iPhone 13 (Midnight, 128 GB)',\n",
       "  'APPLE iPhone 13 (Starlight, 128 GB)',\n",
       "  'APPLE iPhone 13 (Pink, 128 GB)',\n",
       "  'APPLE iPhone 13 (Blue, 128 GB)',\n",
       "  'APPLE iPhone 13 Mini (Midnight, 128 GB)',\n",
       "  'APPLE iPhone 13 Mini (Blue, 128 GB)',\n",
       "  'APPLE iPhone 13 Mini ((PRODUCT)RED, 128 GB)',\n",
       "  'APPLE iPhone 13 Mini (Starlight, 128 GB)',\n",
       "  'APPLE iPhone 13 ((PRODUCT)RED, 256 GB)',\n",
       "  'APPLE iPhone SE (Red, 256 GB)'],\n",
       " 'rule_r9qa': ['APPLE iPhone SE (Red, 64 GB)',\n",
       "  'APPLE iPhone 12 Mini (Black, 64 GB)',\n",
       "  'APPLE iPhone SE (White, 64 GB)',\n",
       "  'APPLE iPhone SE (Black, 64 GB)',\n",
       "  'APPLE iPhone SE (Black, 128 GB)',\n",
       "  'APPLE iPhone SE (White, 128 GB)',\n",
       "  'APPLE iPhone SE (Red, 128 GB)',\n",
       "  'APPLE iPhone 12 (Black, 64 GB)',\n",
       "  'APPLE iPhone 12 Mini (White, 64 GB)',\n",
       "  'APPLE iPhone 12 Mini (Blue, 64 GB)',\n",
       "  'Apple iPhone XR ((PRODUCT)RED, 64 GB) (Includes EarPods, Power Adapter)',\n",
       "  'APPLE iPhone XR (Black, 128 GB)',\n",
       "  'Apple iPhone XR (White, 128 GB) (Includes EarPods, Power Adapter)',\n",
       "  'APPLE iPhone 12 (Blue, 128 GB)',\n",
       "  'APPLE iPhone 13 (Midnight, 128 GB)',\n",
       "  'APPLE iPhone 13 (Starlight, 128 GB)',\n",
       "  'APPLE iPhone 13 (Pink, 128 GB)',\n",
       "  'APPLE iPhone 13 (Blue, 128 GB)',\n",
       "  'APPLE iPhone 13 Mini (Midnight, 128 GB)',\n",
       "  'APPLE iPhone 13 Mini (Blue, 128 GB)',\n",
       "  'APPLE iPhone 13 Mini ((PRODUCT)RED, 128 GB)',\n",
       "  'APPLE iPhone 13 Mini (Starlight, 128 GB)',\n",
       "  'APPLE iPhone 13 ((PRODUCT)RED, 256 GB)',\n",
       "  'APPLE iPhone SE (Red, 256 GB)']}"
      ]
     },
     "execution_count": 4,
     "metadata": {},
     "output_type": "execute_result"
    }
   ],
   "source": [
    "scraper.get_result_similar(flipkart_url, grouped=True)"
   ]
  },
  {
   "cell_type": "code",
   "execution_count": 21,
   "metadata": {},
   "outputs": [],
   "source": [
    "results = scraper.get_result_similar('https://www.flipkart.com/search?q=iphone',group_by_alias = True)"
   ]
  },
  {
   "cell_type": "code",
   "execution_count": 22,
   "metadata": {},
   "outputs": [
    {
     "data": {
      "text/plain": [
       "['APPLE iPhone SE (Red, 64 GB)',\n",
       " 'APPLE iPhone 12 Mini (Black, 64 GB)',\n",
       " 'APPLE iPhone SE (White, 64 GB)',\n",
       " 'APPLE iPhone 12 (Black, 64 GB)',\n",
       " 'APPLE iPhone SE (Red, 128 GB)',\n",
       " 'APPLE iPhone 12 Mini (Blue, 64 GB)',\n",
       " 'APPLE iPhone 12 (Blue, 128 GB)',\n",
       " 'APPLE iPhone 13 (Starlight, 128 GB)',\n",
       " 'APPLE iPhone 13 (Pink, 128 GB)',\n",
       " 'APPLE iPhone 13 (Midnight, 128 GB)',\n",
       " 'APPLE iPhone 13 (Blue, 128 GB)',\n",
       " 'APPLE iPhone 13 Mini ((PRODUCT)RED, 128 GB)',\n",
       " 'APPLE iPhone 13 Mini (Midnight, 128 GB)',\n",
       " 'APPLE iPhone 13 Mini (Starlight, 128 GB)',\n",
       " 'APPLE iPhone 13 Mini (Midnight, 256 GB)',\n",
       " 'APPLE iPhone XR (Yellow, 128 GB)',\n",
       " 'APPLE iPhone 13 ((PRODUCT)RED, 256 GB)',\n",
       " 'APPLE iPhone 13 (Blue, 256 GB)',\n",
       " 'APPLE iPhone 13 Mini (Pink, 256 GB)',\n",
       " 'APPLE iPhone 13 Pro (Gold, 512 GB)',\n",
       " 'APPLE iPhone 12 (White, 128 GB)',\n",
       " 'APPLE iPhone 13 Mini (Starlight, 512 GB)',\n",
       " 'APPLE iPhone 13 Mini (Pink, 512 GB)',\n",
       " 'APPLE iPhone 13 Pro Max (Gold, 1 TB)']"
      ]
     },
     "execution_count": 22,
     "metadata": {},
     "output_type": "execute_result"
    }
   ],
   "source": [
    "results['Title']"
   ]
  },
  {
   "cell_type": "code",
   "execution_count": 23,
   "metadata": {},
   "outputs": [
    {
     "data": {
      "text/plain": [
       "['₹27,999',\n",
       " '₹38,999',\n",
       " '₹27,999',\n",
       " '₹52,999',\n",
       " '₹30,999',\n",
       " '₹38,999',\n",
       " '₹64,999',\n",
       " '₹74,900',\n",
       " '₹74,900',\n",
       " '₹74,900',\n",
       " '₹74,900',\n",
       " '₹66,900',\n",
       " '₹66,900',\n",
       " '₹66,900',\n",
       " '₹76,900',\n",
       " '₹39,999',\n",
       " '₹84,900',\n",
       " '₹84,900',\n",
       " '₹76,900',\n",
       " '₹1,49,900',\n",
       " '₹64,999',\n",
       " '₹96,900',\n",
       " '₹96,900',\n",
       " '₹1,79,900']"
      ]
     },
     "execution_count": 23,
     "metadata": {},
     "output_type": "execute_result"
    }
   ],
   "source": [
    "results['Price']"
   ]
  },
  {
   "cell_type": "code",
   "execution_count": 26,
   "metadata": {},
   "outputs": [],
   "source": [
    "import pandas as pd"
   ]
  },
  {
   "cell_type": "code",
   "execution_count": 28,
   "metadata": {},
   "outputs": [],
   "source": [
    "df=pd.DataFrame(results)"
   ]
  },
  {
   "cell_type": "code",
   "execution_count": 33,
   "metadata": {},
   "outputs": [
    {
     "data": {
      "text/html": [
       "<div>\n",
       "<style scoped>\n",
       "    .dataframe tbody tr th:only-of-type {\n",
       "        vertical-align: middle;\n",
       "    }\n",
       "\n",
       "    .dataframe tbody tr th {\n",
       "        vertical-align: top;\n",
       "    }\n",
       "\n",
       "    .dataframe thead th {\n",
       "        text-align: right;\n",
       "    }\n",
       "</style>\n",
       "<table border=\"1\" class=\"dataframe\">\n",
       "  <thead>\n",
       "    <tr style=\"text-align: right;\">\n",
       "      <th></th>\n",
       "      <th>Price</th>\n",
       "      <th>Title</th>\n",
       "    </tr>\n",
       "  </thead>\n",
       "  <tbody>\n",
       "    <tr>\n",
       "      <th>0</th>\n",
       "      <td>₹27,999</td>\n",
       "      <td>APPLE iPhone SE (Red, 64 GB)</td>\n",
       "    </tr>\n",
       "    <tr>\n",
       "      <th>1</th>\n",
       "      <td>₹38,999</td>\n",
       "      <td>APPLE iPhone 12 Mini (Black, 64 GB)</td>\n",
       "    </tr>\n",
       "    <tr>\n",
       "      <th>2</th>\n",
       "      <td>₹27,999</td>\n",
       "      <td>APPLE iPhone SE (White, 64 GB)</td>\n",
       "    </tr>\n",
       "    <tr>\n",
       "      <th>3</th>\n",
       "      <td>₹52,999</td>\n",
       "      <td>APPLE iPhone 12 (Black, 64 GB)</td>\n",
       "    </tr>\n",
       "    <tr>\n",
       "      <th>4</th>\n",
       "      <td>₹30,999</td>\n",
       "      <td>APPLE iPhone SE (Red, 128 GB)</td>\n",
       "    </tr>\n",
       "    <tr>\n",
       "      <th>5</th>\n",
       "      <td>₹38,999</td>\n",
       "      <td>APPLE iPhone 12 Mini (Blue, 64 GB)</td>\n",
       "    </tr>\n",
       "    <tr>\n",
       "      <th>6</th>\n",
       "      <td>₹64,999</td>\n",
       "      <td>APPLE iPhone 12 (Blue, 128 GB)</td>\n",
       "    </tr>\n",
       "    <tr>\n",
       "      <th>7</th>\n",
       "      <td>₹74,900</td>\n",
       "      <td>APPLE iPhone 13 (Starlight, 128 GB)</td>\n",
       "    </tr>\n",
       "    <tr>\n",
       "      <th>8</th>\n",
       "      <td>₹74,900</td>\n",
       "      <td>APPLE iPhone 13 (Pink, 128 GB)</td>\n",
       "    </tr>\n",
       "    <tr>\n",
       "      <th>9</th>\n",
       "      <td>₹74,900</td>\n",
       "      <td>APPLE iPhone 13 (Midnight, 128 GB)</td>\n",
       "    </tr>\n",
       "    <tr>\n",
       "      <th>10</th>\n",
       "      <td>₹74,900</td>\n",
       "      <td>APPLE iPhone 13 (Blue, 128 GB)</td>\n",
       "    </tr>\n",
       "    <tr>\n",
       "      <th>11</th>\n",
       "      <td>₹66,900</td>\n",
       "      <td>APPLE iPhone 13 Mini ((PRODUCT)RED, 128 GB)</td>\n",
       "    </tr>\n",
       "    <tr>\n",
       "      <th>12</th>\n",
       "      <td>₹66,900</td>\n",
       "      <td>APPLE iPhone 13 Mini (Midnight, 128 GB)</td>\n",
       "    </tr>\n",
       "    <tr>\n",
       "      <th>13</th>\n",
       "      <td>₹66,900</td>\n",
       "      <td>APPLE iPhone 13 Mini (Starlight, 128 GB)</td>\n",
       "    </tr>\n",
       "    <tr>\n",
       "      <th>14</th>\n",
       "      <td>₹76,900</td>\n",
       "      <td>APPLE iPhone 13 Mini (Midnight, 256 GB)</td>\n",
       "    </tr>\n",
       "    <tr>\n",
       "      <th>15</th>\n",
       "      <td>₹39,999</td>\n",
       "      <td>APPLE iPhone XR (Yellow, 128 GB)</td>\n",
       "    </tr>\n",
       "    <tr>\n",
       "      <th>16</th>\n",
       "      <td>₹84,900</td>\n",
       "      <td>APPLE iPhone 13 ((PRODUCT)RED, 256 GB)</td>\n",
       "    </tr>\n",
       "    <tr>\n",
       "      <th>17</th>\n",
       "      <td>₹84,900</td>\n",
       "      <td>APPLE iPhone 13 (Blue, 256 GB)</td>\n",
       "    </tr>\n",
       "    <tr>\n",
       "      <th>18</th>\n",
       "      <td>₹76,900</td>\n",
       "      <td>APPLE iPhone 13 Mini (Pink, 256 GB)</td>\n",
       "    </tr>\n",
       "    <tr>\n",
       "      <th>19</th>\n",
       "      <td>₹1,49,900</td>\n",
       "      <td>APPLE iPhone 13 Pro (Gold, 512 GB)</td>\n",
       "    </tr>\n",
       "    <tr>\n",
       "      <th>20</th>\n",
       "      <td>₹64,999</td>\n",
       "      <td>APPLE iPhone 12 (White, 128 GB)</td>\n",
       "    </tr>\n",
       "    <tr>\n",
       "      <th>21</th>\n",
       "      <td>₹96,900</td>\n",
       "      <td>APPLE iPhone 13 Mini (Starlight, 512 GB)</td>\n",
       "    </tr>\n",
       "    <tr>\n",
       "      <th>22</th>\n",
       "      <td>₹96,900</td>\n",
       "      <td>APPLE iPhone 13 Mini (Pink, 512 GB)</td>\n",
       "    </tr>\n",
       "    <tr>\n",
       "      <th>23</th>\n",
       "      <td>₹1,79,900</td>\n",
       "      <td>APPLE iPhone 13 Pro Max (Gold, 1 TB)</td>\n",
       "    </tr>\n",
       "  </tbody>\n",
       "</table>\n",
       "</div>"
      ],
      "text/plain": [
       "        Price                                        Title\n",
       "0     ₹27,999                 APPLE iPhone SE (Red, 64 GB)\n",
       "1     ₹38,999          APPLE iPhone 12 Mini (Black, 64 GB)\n",
       "2     ₹27,999               APPLE iPhone SE (White, 64 GB)\n",
       "3     ₹52,999               APPLE iPhone 12 (Black, 64 GB)\n",
       "4     ₹30,999                APPLE iPhone SE (Red, 128 GB)\n",
       "5     ₹38,999           APPLE iPhone 12 Mini (Blue, 64 GB)\n",
       "6     ₹64,999               APPLE iPhone 12 (Blue, 128 GB)\n",
       "7     ₹74,900          APPLE iPhone 13 (Starlight, 128 GB)\n",
       "8     ₹74,900               APPLE iPhone 13 (Pink, 128 GB)\n",
       "9     ₹74,900           APPLE iPhone 13 (Midnight, 128 GB)\n",
       "10    ₹74,900               APPLE iPhone 13 (Blue, 128 GB)\n",
       "11    ₹66,900  APPLE iPhone 13 Mini ((PRODUCT)RED, 128 GB)\n",
       "12    ₹66,900      APPLE iPhone 13 Mini (Midnight, 128 GB)\n",
       "13    ₹66,900     APPLE iPhone 13 Mini (Starlight, 128 GB)\n",
       "14    ₹76,900      APPLE iPhone 13 Mini (Midnight, 256 GB)\n",
       "15    ₹39,999             APPLE iPhone XR (Yellow, 128 GB)\n",
       "16    ₹84,900       APPLE iPhone 13 ((PRODUCT)RED, 256 GB)\n",
       "17    ₹84,900               APPLE iPhone 13 (Blue, 256 GB)\n",
       "18    ₹76,900          APPLE iPhone 13 Mini (Pink, 256 GB)\n",
       "19  ₹1,49,900           APPLE iPhone 13 Pro (Gold, 512 GB)\n",
       "20    ₹64,999              APPLE iPhone 12 (White, 128 GB)\n",
       "21    ₹96,900     APPLE iPhone 13 Mini (Starlight, 512 GB)\n",
       "22    ₹96,900          APPLE iPhone 13 Mini (Pink, 512 GB)\n",
       "23  ₹1,79,900         APPLE iPhone 13 Pro Max (Gold, 1 TB)"
      ]
     },
     "execution_count": 33,
     "metadata": {},
     "output_type": "execute_result"
    }
   ],
   "source": [
    "df"
   ]
  },
  {
   "cell_type": "code",
   "execution_count": 38,
   "metadata": {},
   "outputs": [],
   "source": [
    "df.to_excel(\"/Users/amruthabh/Desktop/iphone Details.xlsx\")"
   ]
  }
 ],
 "metadata": {
  "kernelspec": {
   "display_name": "Python 3",
   "language": "python",
   "name": "python3"
  },
  "language_info": {
   "codemirror_mode": {
    "name": "ipython",
    "version": 3
   },
   "file_extension": ".py",
   "mimetype": "text/x-python",
   "name": "python",
   "nbconvert_exporter": "python",
   "pygments_lexer": "ipython3",
   "version": "3.8.8"
  }
 },
 "nbformat": 4,
 "nbformat_minor": 4
}
